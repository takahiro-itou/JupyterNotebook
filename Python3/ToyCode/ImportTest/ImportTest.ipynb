{
 "cells": [
  {
   "cell_type": "markdown",
   "metadata": {},
   "source": [
    "# インポートのテスト "
   ]
  },
  {
   "cell_type": "markdown",
   "metadata": {},
   "source": [
    "## インポートされるファイルの確認"
   ]
  },
  {
   "cell_type": "code",
   "execution_count": 1,
   "metadata": {},
   "outputs": [
    {
     "name": "stdout",
     "output_type": "stream",
     "text": [
      "Microsoft Windows [Version 6.1.7601]\r\n",
      "Copyright (c) 2009 Microsoft Corporation.  All rights reserved.\r\n",
      "\r\n",
      "R:\\Git\\JupyterNotebook\\Python3\\ToyCode\\ImportTest>DIR\n",
      " ドライブ R のボリューム ラベルがありません。\r\n",
      " ボリューム シリアル番号は 0000-59C6 です\r\n",
      "\r\n",
      " R:\\Git\\JupyterNotebook\\Python3\\ToyCode\\ImportTest のディレクトリ\r\n",
      "\r\n",
      "2017/12/30  11:39    <DIR>          .\r\n",
      "2017/12/30  11:39    <DIR>          ..\r\n",
      "2017/12/30  11:39    <DIR>          .ipynb_checkpoints\r\n",
      "2017/12/30  11:26               131 hogehoge.py\r\n",
      "2017/12/30  11:39             7,604 ImportTest.ipynb\r\n",
      "2017/12/30  11:26               129 test1.py\r\n",
      "2017/12/30  11:26               131 test2.py\r\n",
      "2017/12/30  11:33    <DIR>          __pycache__\r\n",
      "               4 個のファイル               7,995 バイト\r\n",
      "               4 個のディレクトリ     538,759,168 バイトの空き領域\r\n",
      "\r\n",
      "R:\\Git\\JupyterNotebook\\Python3\\ToyCode\\ImportTest>TYPE  test1.py\n",
      "\n",
      "counter = 0\n",
      "\n",
      "def  print_msg():\n",
      "    global  counter\n",
      "    counter += 1\n",
      "    print('This is Test1.', counter)\n",
      "# End Def (print_msg)\n",
      "\n",
      "\r\n",
      "R:\\Git\\JupyterNotebook\\Python3\\ToyCode\\ImportTest>TYPE  test2.py\n",
      "\n",
      "counter = 0\n",
      "\n",
      "def  print_msg():\n",
      "    global  counter\n",
      "    counter += 100\n",
      "    print('This is Test2.', counter)\n",
      "# End Def (print_msg)\n",
      "\n",
      "\r\n",
      "R:\\Git\\JupyterNotebook\\Python3\\ToyCode\\ImportTest>"
     ]
    }
   ],
   "source": [
    "%%cmd\n",
    "DIR\n",
    "TYPE  test1.py\n",
    "TYPE  test2.py"
   ]
  },
  {
   "cell_type": "markdown",
   "metadata": {},
   "source": [
    "## 関数内でインポートを行う、ダミー関数を準備"
   ]
  },
  {
   "cell_type": "code",
   "execution_count": 2,
   "metadata": {},
   "outputs": [],
   "source": [
    "###\n",
    "##    ファイル hogehoge をインポートし、メッセージを表示\n",
    "##\n",
    "##  @param [in] flag    フラグ。False なら何もしない\n",
    "##  @return    void.\n",
    "###\n",
    "def  test_import(flag):\n",
    "    if flag :\n",
    "        import  hogehoge\n",
    "        hogehoge.print_msg()\n",
    "        pass\n",
    "    # End If\n",
    "    return\n",
    "# End Def (test_import)\n"
   ]
  },
  {
   "cell_type": "markdown",
   "metadata": {},
   "source": [
    "## インポートされるファイルの準備\n",
    "### import  hogehoge で test1.py がインポートされるように設定"
   ]
  },
  {
   "cell_type": "code",
   "execution_count": 3,
   "metadata": {},
   "outputs": [
    {
     "name": "stdout",
     "output_type": "stream",
     "text": [
      "Microsoft Windows [Version 6.1.7601]\r\n",
      "Copyright (c) 2009 Microsoft Corporation.  All rights reserved.\r\n",
      "\r\n",
      "R:\\Git\\JupyterNotebook\\Python3\\ToyCode\\ImportTest>COPY  /Y  test1.py  hogehoge.py\n",
      "        1 個のファイルをコピーしました。\r\n",
      "\r\n",
      "R:\\Git\\JupyterNotebook\\Python3\\ToyCode\\ImportTest>TYPE  hogehoge.py\n",
      "\n",
      "counter = 0\n",
      "\n",
      "def  print_msg():\n",
      "    global  counter\n",
      "    counter += 1\n",
      "    print('This is Test1.', counter)\n",
      "# End Def (print_msg)\n",
      "\n",
      "\r\n",
      "R:\\Git\\JupyterNotebook\\Python3\\ToyCode\\ImportTest>"
     ]
    }
   ],
   "source": [
    "%%cmd\n",
    "COPY  /Y  test1.py  hogehoge.py\n",
    "TYPE  hogehoge.py"
   ]
  },
  {
   "cell_type": "markdown",
   "metadata": {},
   "source": [
    "## 関数を実行する。\n",
    "* この時点では、test1.py が対応しているから、メッセージは This is Test1. のはず"
   ]
  },
  {
   "cell_type": "code",
   "execution_count": 4,
   "metadata": {},
   "outputs": [
    {
     "name": "stdout",
     "output_type": "stream",
     "text": [
      "This is Test1. 1\n"
     ]
    }
   ],
   "source": [
    "test_import(True)"
   ]
  },
  {
   "cell_type": "markdown",
   "metadata": {},
   "source": [
    "## ここで、インポートされるファイルを差し替える"
   ]
  },
  {
   "cell_type": "code",
   "execution_count": 5,
   "metadata": {},
   "outputs": [
    {
     "name": "stdout",
     "output_type": "stream",
     "text": [
      "Microsoft Windows [Version 6.1.7601]\r\n",
      "Copyright (c) 2009 Microsoft Corporation.  All rights reserved.\r\n",
      "\r\n",
      "R:\\Git\\JupyterNotebook\\Python3\\ToyCode\\ImportTest>COPY  /Y  test2.py  hogehoge.py\n",
      "        1 個のファイルをコピーしました。\r\n",
      "\r\n",
      "R:\\Git\\JupyterNotebook\\Python3\\ToyCode\\ImportTest>TYPE  hogehoge.py\n",
      "\n",
      "counter = 0\n",
      "\n",
      "def  print_msg():\n",
      "    global  counter\n",
      "    counter += 100\n",
      "    print('This is Test2.', counter)\n",
      "# End Def (print_msg)\n",
      "\n",
      "\r\n",
      "R:\\Git\\JupyterNotebook\\Python3\\ToyCode\\ImportTest>"
     ]
    }
   ],
   "source": [
    "%%cmd\n",
    "COPY  /Y  test2.py  hogehoge.py\n",
    "TYPE  hogehoge.py"
   ]
  },
  {
   "cell_type": "markdown",
   "metadata": {},
   "source": [
    "## もういちどダミー関数を実行する\n",
    "* ここの出力が Test1 なのと、カウンターがリセットされていないので、\n",
    "* おそらく、インポートされたモジュールはキャッシュされている。\n",
    "\n",
    "** ただし、知らない間に GC で破棄されるかも **"
   ]
  },
  {
   "cell_type": "code",
   "execution_count": 6,
   "metadata": {},
   "outputs": [
    {
     "name": "stdout",
     "output_type": "stream",
     "text": [
      "This is Test1. 2\n"
     ]
    }
   ],
   "source": [
    "test_import(True)"
   ]
  },
  {
   "cell_type": "code",
   "execution_count": null,
   "metadata": {},
   "outputs": [],
   "source": []
  }
 ],
 "metadata": {
  "kernelspec": {
   "display_name": "Python 3",
   "language": "python",
   "name": "python3"
  },
  "language_info": {
   "codemirror_mode": {
    "name": "ipython",
    "version": 3
   },
   "file_extension": ".py",
   "mimetype": "text/x-python",
   "name": "python",
   "nbconvert_exporter": "python",
   "pygments_lexer": "ipython3",
   "version": "3.6.2"
  }
 },
 "nbformat": 4,
 "nbformat_minor": 2
}
